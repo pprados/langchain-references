{
 "cells": [
  {
   "metadata": {},
   "cell_type": "markdown",
   "source": [
    "# Setup\n",
    "[![Open in Colab](https://colab.research.google.com/assets/colab-badge.svg)](https://colab.research.google.com/github/pprados/langchain-references/blob/master/langchain_reference.ipynb)\n"
   ],
   "id": "c86f3d83ad4a715a"
  },
  {
   "metadata": {
    "ExecuteTime": {
     "end_time": "2024-08-13T08:36:11.969811Z",
     "start_time": "2024-08-13T08:36:10.908070Z"
    }
   },
   "cell_type": "code",
   "source": "!python -m pip -q install --upgrade pip",
   "id": "dc957a611930f73c",
   "outputs": [],
   "execution_count": 1
  },
  {
   "metadata": {
    "ExecuteTime": {
     "end_time": "2024-08-13T08:36:19.362916Z",
     "start_time": "2024-08-13T08:36:12.912485Z"
    }
   },
   "cell_type": "code",
   "source": [
    "# Document loading, retrieval methods and text splitting\n",
    "%pip install -qU wikipedia\n",
    "\n",
    "%pip install -qU langchain-references\n",
    "%pip install -qU langchain-community\n",
    "%pip install -qU langchain-text-splitters\n",
    "\n",
    "# Local vector store via Chroma\n",
    "%pip install -qU langchain-chroma\n",
    "\n",
    "# inference and embeddings \n",
    "%pip install -qU langchain-openai"
   ],
   "id": "aa3cb4127a38ba2c",
   "outputs": [
    {
     "name": "stdout",
     "output_type": "stream",
     "text": [
      "Note: you may need to restart the kernel to use updated packages.\n",
      "Note: you may need to restart the kernel to use updated packages.\n",
      "Note: you may need to restart the kernel to use updated packages.\n",
      "Note: you may need to restart the kernel to use updated packages.\n",
      "Note: you may need to restart the kernel to use updated packages.\n",
      "Note: you may need to restart the kernel to use updated packages.\n"
     ]
    }
   ],
   "execution_count": 2
  },
  {
   "metadata": {
    "ExecuteTime": {
     "end_time": "2024-08-13T08:36:19.682767Z",
     "start_time": "2024-08-13T08:36:19.368381Z"
    }
   },
   "cell_type": "code",
   "source": [
    "import langchain_references\n",
    "\n",
    "langchain_references.__version__"
   ],
   "id": "eb8191ca50131426",
   "outputs": [
    {
     "data": {
      "text/plain": [
       "'0.0.0'"
      ]
     },
     "execution_count": 3,
     "metadata": {},
     "output_type": "execute_result"
    }
   ],
   "execution_count": 3
  },
  {
   "metadata": {},
   "cell_type": "markdown",
   "source": [
    "# Document loading, retrieval methods and text splitting\n",
    "Load documents from the web and split them into smaller chunks for processing."
   ],
   "id": "83768f43742ddfb4"
  },
  {
   "metadata": {
    "ExecuteTime": {
     "end_time": "2024-08-13T08:36:30.878458Z",
     "start_time": "2024-08-13T08:36:21.302776Z"
    }
   },
   "cell_type": "code",
   "source": [
    "import os\n",
    "from pprint import pprint\n",
    "\n",
    "os.environ[\"USER_AGENT\"] = \"langhchain-references\"\n",
    "\n",
    "from langchain_community.retrievers import WikipediaRetriever\n",
    "\n",
    "documents = WikipediaRetriever(\n",
    "    top_k_results=10,\n",
    "    doc_content_chars_max=2000\n",
    ").invoke(\"mathematic\")\n"
   ],
   "id": "4ead84bd97afdfdf",
   "outputs": [],
   "execution_count": 4
  },
  {
   "metadata": {
    "ExecuteTime": {
     "end_time": "2024-08-13T08:36:32.544362Z",
     "start_time": "2024-08-13T08:36:32.539504Z"
    }
   },
   "cell_type": "code",
   "source": "pprint([(doc.metadata[\"title\"], doc.metadata[\"source\"]) for doc in documents])",
   "id": "e4ffd3c1f4353224",
   "outputs": [
    {
     "name": "stdout",
     "output_type": "stream",
     "text": [
      "[('Mathematics', 'https://en.wikipedia.org/wiki/Mathematics'),\n",
      " ('History of mathematics',\n",
      "  'https://en.wikipedia.org/wiki/History_of_mathematics'),\n",
      " ('Mathematical Reviews', 'https://en.wikipedia.org/wiki/Mathematical_Reviews'),\n",
      " ('Applied mathematics', 'https://en.wikipedia.org/wiki/Applied_mathematics'),\n",
      " ('Mathematical game', 'https://en.wikipedia.org/wiki/Mathematical_game'),\n",
      " ('Mathematical object', 'https://en.wikipedia.org/wiki/Mathematical_object'),\n",
      " ('List of mathematics competitions',\n",
      "  'https://en.wikipedia.org/wiki/List_of_mathematics_competitions'),\n",
      " ('Mathematical sciences',\n",
      "  'https://en.wikipedia.org/wiki/Mathematical_sciences'),\n",
      " ('Mathematical logic', 'https://en.wikipedia.org/wiki/Mathematical_logic'),\n",
      " ('Group (mathematics)', 'https://en.wikipedia.org/wiki/Group_(mathematics)')]\n"
     ]
    }
   ],
   "execution_count": 5
  },
  {
   "metadata": {
    "ExecuteTime": {
     "end_time": "2024-08-13T08:36:44.606217Z",
     "start_time": "2024-08-13T08:36:44.599336Z"
    }
   },
   "cell_type": "code",
   "source": [
    "import os\n",
    "from getpass import getpass\n",
    "\n",
    "if not os.environ.get(\"OPENAI_API_KEY\"):\n",
    "    os.environ[\"OPENAI_API_KEY\"] = getpass()"
   ],
   "id": "98a8edf012a12788",
   "outputs": [],
   "execution_count": 6
  },
  {
   "metadata": {
    "ExecuteTime": {
     "end_time": "2024-08-13T08:36:46.689251Z",
     "start_time": "2024-08-13T08:36:46.082636Z"
    }
   },
   "cell_type": "code",
   "source": [
    "from langchain_openai import OpenAIEmbeddings, ChatOpenAI\n",
    "\n",
    "embeddings = OpenAIEmbeddings()\n",
    "model = ChatOpenAI(model=\"gpt-4o-mini\")"
   ],
   "id": "2727b610e8d1dab",
   "outputs": [],
   "execution_count": 7
  },
  {
   "metadata": {},
   "cell_type": "markdown",
   "source": "Load the documents into a vector store.",
   "id": "7dec526917833040"
  },
  {
   "metadata": {
    "ExecuteTime": {
     "end_time": "2024-08-13T08:36:53.828599Z",
     "start_time": "2024-08-13T08:36:52.569130Z"
    }
   },
   "cell_type": "code",
   "source": [
    "from langchain_chroma import Chroma\n",
    "\n",
    "vectorstore = Chroma.from_documents(documents=documents,\n",
    "                                    embedding=embeddings,\n",
    "                                    )"
   ],
   "id": "5f9d7467fe848c28",
   "outputs": [],
   "execution_count": 8
  },
  {
   "metadata": {},
   "cell_type": "markdown",
   "source": "Create a context with a combination of documents in a single string, with a single numerical identifier.",
   "id": "1d490499f3dd0f2a"
  },
  {
   "metadata": {
    "ExecuteTime": {
     "end_time": "2024-08-13T08:38:31.026135Z",
     "start_time": "2024-08-13T08:38:31.019815Z"
    }
   },
   "cell_type": "code",
   "source": [
    "def format_docs(docs):\n",
    "    # return \"\\n\\n\".join(doc.page_content for doc in docs)\n",
    "    return \"\\n\".join(\n",
    "        # Add a document id so that LLM can reference it \n",
    "        [f\"<document id={i + 1}>\\n{doc.page_content}\\n</document>\\n\" for i, doc in\n",
    "         enumerate(docs)]\n",
    "    )\n"
   ],
   "id": "e1ab24ab1ce6756a",
   "outputs": [],
   "execution_count": 9
  },
  {
   "metadata": {},
   "cell_type": "markdown",
   "source": "# Manage references with langchain-reference",
   "id": "66fa627b954ca485"
  },
  {
   "metadata": {},
   "cell_type": "markdown",
   "source": "Create a prompt with `{format_references}`, `{context}` and `{question}` placeholders.",
   "id": "40dbd4cd88b69484"
  },
  {
   "metadata": {
    "ExecuteTime": {
     "end_time": "2024-08-13T08:38:43.386839Z",
     "start_time": "2024-08-13T08:38:43.380269Z"
    }
   },
   "cell_type": "code",
   "source": [
    "from langchain_core.prompts import ChatPromptTemplate\n",
    "from langchain_core.runnables import RunnablePassthrough\n",
    "\n",
    "RAG_TEMPLATE = \"\"\"\n",
    "You are an assistant for question-answering tasks. Use the following pieces of retrieved documents to answer the question. \n",
    "If you don't know the answer, just say that you don't know. Use three sentences maximum and keep the answer concise.\n",
    "\n",
    "{format_references}\n",
    "  \n",
    "<documents>\n",
    "{context}\n",
    "</documents>\n",
    "\n",
    "Answer the following question:\n",
    "\n",
    "{question}\"\"\"\n",
    "\n",
    "rag_prompt = ChatPromptTemplate.from_template(RAG_TEMPLATE)"
   ],
   "id": "17de643f3bab60f0",
   "outputs": [],
   "execution_count": 10
  },
  {
   "metadata": {},
   "cell_type": "markdown",
   "source": "Create a context with documents and format_references.",
   "id": "ae2da97e71ccc295"
  },
  {
   "metadata": {
    "ExecuteTime": {
     "end_time": "2024-08-13T08:38:50.713937Z",
     "start_time": "2024-08-13T08:38:50.710032Z"
    }
   },
   "cell_type": "code",
   "source": [
    "from langchain_references import FORMAT_REFERENCES\n",
    "\n",
    "context = RunnablePassthrough.assign(\n",
    "    context=lambda input: format_docs(input[\"documents\"]),\n",
    "    format_references=lambda _: FORMAT_REFERENCES,\n",
    ")\n",
    "pprint(FORMAT_REFERENCES)"
   ],
   "id": "6bb1bd80c65a3fe8",
   "outputs": [
    {
     "name": "stdout",
     "output_type": "stream",
     "text": [
      "('When referencing the documents, add a citation right after. Use '\n",
      " '\"[NUMBER](id=ID_NUMBER)\" for the citation (e.g. \"The Space Needle is in '\n",
      " 'Seattle [1](id=55)[2](id=12).\").')\n"
     ]
    }
   ],
   "execution_count": 11
  },
  {
   "metadata": {},
   "cell_type": "markdown",
   "source": "Create a chain with the `context`, `rag_prompt` and `model`.",
   "id": "8cb0d6f292c89f32"
  },
  {
   "metadata": {
    "ExecuteTime": {
     "end_time": "2024-08-13T08:39:13.978191Z",
     "start_time": "2024-08-13T08:39:13.975006Z"
    }
   },
   "cell_type": "code",
   "source": [
    "from langchain_core.output_parsers import StrOutputParser\n",
    "\n",
    "# Invoke the chain without `manage_references()`\n",
    "chain = (\n",
    "        context\n",
    "        | rag_prompt\n",
    "        | model\n",
    ")"
   ],
   "id": "1d37c8e5dd74989f",
   "outputs": [],
   "execution_count": 12
  },
  {
   "metadata": {},
   "cell_type": "markdown",
   "source": "Select documents similar to the question.",
   "id": "fc1726be7a2701da"
  },
  {
   "metadata": {
    "ExecuteTime": {
     "end_time": "2024-08-13T08:39:21.135567Z",
     "start_time": "2024-08-13T08:39:20.867189Z"
    }
   },
   "cell_type": "code",
   "source": [
    "question = \"What is the difference kind of games and competition of mathematics?\"\n",
    "\n",
    "docs = vectorstore.similarity_search(question, k=6)\n",
    "pprint([(d.metadata[\"title\"], d.metadata[\"source\"]) for d in docs])"
   ],
   "id": "5cfa4443804b318e",
   "outputs": [
    {
     "name": "stdout",
     "output_type": "stream",
     "text": [
      "[('Mathematical game', 'https://en.wikipedia.org/wiki/Mathematical_game'),\n",
      " ('List of mathematics competitions',\n",
      "  'https://en.wikipedia.org/wiki/List_of_mathematics_competitions'),\n",
      " ('Mathematics', 'https://en.wikipedia.org/wiki/Mathematics'),\n",
      " ('History of mathematics',\n",
      "  'https://en.wikipedia.org/wiki/History_of_mathematics'),\n",
      " ('Applied mathematics', 'https://en.wikipedia.org/wiki/Applied_mathematics'),\n",
      " ('Mathematical sciences',\n",
      "  'https://en.wikipedia.org/wiki/Mathematical_sciences')]\n"
     ]
    }
   ],
   "execution_count": 13
  },
  {
   "metadata": {},
   "cell_type": "markdown",
   "source": "Invoke the chain with the `documents` and `question`, but without `manage_references()`. You can see some **\\[1](id=1)** references in the answer.",
   "id": "f018a406e58e2768"
  },
  {
   "metadata": {
    "ExecuteTime": {
     "end_time": "2024-08-13T08:41:11.458142Z",
     "start_time": "2024-08-13T08:41:09.722003Z"
    }
   },
   "cell_type": "code",
   "source": [
    "answer = (chain | StrOutputParser()).invoke({\"documents\": docs, \"question\": question})\n",
    "pprint(answer)"
   ],
   "id": "5f5d2df72ae94ae8",
   "outputs": [
    {
     "name": "stdout",
     "output_type": "stream",
     "text": [
      "('Mathematical games are defined by clear rules and strategies that can '\n",
      " 'involve arithmetic concepts, allowing players to engage without needing deep '\n",
      " 'mathematical expertise, such as tic-tac-toe or chess [1](id=1). In contrast, '\n",
      " 'mathematics competitions, like the International Mathematical Olympiad, '\n",
      " 'require participants to solve mathematical tests, often demanding advanced '\n",
      " 'problem-solving skills and proofs [2](id=2). Thus, the former focuses on '\n",
      " 'gameplay and strategy, while the latter emphasizes mathematical '\n",
      " 'problem-solving and competition.')\n"
     ]
    }
   ],
   "execution_count": 15
  },
  {
   "metadata": {},
   "cell_type": "markdown",
   "source": "Invoke the chain with the `documents` and `question` with `manage_references()`.",
   "id": "1db0b7d9ce0804db"
  },
  {
   "metadata": {
    "ExecuteTime": {
     "end_time": "2024-08-13T08:41:55.576950Z",
     "start_time": "2024-08-13T08:41:55.574085Z"
    }
   },
   "cell_type": "code",
   "source": [
    "from langchain_references import manage_references\n",
    "\n",
    "managed_chain = manage_references(chain)"
   ],
   "id": "814b91c517ad8a70",
   "outputs": [],
   "execution_count": 19
  },
  {
   "metadata": {
    "ExecuteTime": {
     "end_time": "2024-08-13T08:41:58.039800Z",
     "start_time": "2024-08-13T08:41:56.465666Z"
    }
   },
   "cell_type": "code",
   "source": [
    "\n",
    "answer = (managed_chain | StrOutputParser()).invoke(\n",
    "    {\"documents\": docs, \"question\": question})\n",
    "pprint(answer)"
   ],
   "id": "5bd0e15a5da4e77a",
   "outputs": [
    {
     "name": "stdout",
     "output_type": "stream",
     "text": [
      "('Mathematical games are structured activities defined by clear mathematical '\n",
      " 'rules and strategies, often aimed at enhancing arithmetic skills, while '\n",
      " 'mathematics competitions involve participants completing math tests that may '\n",
      " 'require problem-solving, proofs, or calculations. Games focus more on '\n",
      " 'interactive play and strategy, whereas competitions emphasize assessment and '\n",
      " 'achievement in mathematical knowledge '\n",
      " '<sup>[[1](https://en.wikipedia.org/wiki/Mathematical_game)]</sup><sup>[[2](https://en.wikipedia.org/wiki/List_of_mathematics_competitions)]</sup>\\n'\n",
      " '\\n'\n",
      " '- **1** [Mathematical '\n",
      " 'game](https://en.wikipedia.org/wiki/Mathematical_game)\\n'\n",
      " '- **2** [List of mathematics '\n",
      " 'competitions](https://en.wikipedia.org/wiki/List_of_mathematics_competitions)\\n')\n"
     ]
    }
   ],
   "execution_count": 20
  },
  {
   "metadata": {
    "ExecuteTime": {
     "end_time": "2024-08-13T08:42:05.201975Z",
     "start_time": "2024-08-13T08:42:05.197994Z"
    }
   },
   "cell_type": "code",
   "source": [
    "# Print in markdown format\n",
    "from IPython.display import display, Markdown\n",
    "\n",
    "display(Markdown(answer))"
   ],
   "id": "5f9f80470fab785b",
   "outputs": [
    {
     "data": {
      "text/plain": [
       "<IPython.core.display.Markdown object>"
      ],
      "text/markdown": "Mathematical games are structured activities defined by clear mathematical rules and strategies, often aimed at enhancing arithmetic skills, while mathematics competitions involve participants completing math tests that may require problem-solving, proofs, or calculations. Games focus more on interactive play and strategy, whereas competitions emphasize assessment and achievement in mathematical knowledge <sup>[[1](https://en.wikipedia.org/wiki/Mathematical_game)]</sup><sup>[[2](https://en.wikipedia.org/wiki/List_of_mathematics_competitions)]</sup>\n\n- **1** [Mathematical game](https://en.wikipedia.org/wiki/Mathematical_game)\n- **2** [List of mathematics competitions](https://en.wikipedia.org/wiki/List_of_mathematics_competitions)\n"
     },
     "metadata": {},
     "output_type": "display_data"
    }
   ],
   "execution_count": 21
  },
  {
   "metadata": {},
   "cell_type": "markdown",
   "source": [
    "# Another template\n",
    "The previous model requires the list of documents to be obtained before invoking the chain.\n"
   ],
   "id": "ac839308a9b9bf9c"
  },
  {
   "metadata": {
    "ExecuteTime": {
     "end_time": "2024-08-13T08:42:33.038883Z",
     "start_time": "2024-08-13T08:42:33.034489Z"
    }
   },
   "cell_type": "code",
   "source": [
    "from operator import itemgetter\n",
    "from langchain_core.runnables import RunnableParallel\n",
    "\n",
    "retriever = vectorstore.as_retriever(search_kwargs={\"k\": 6})\n",
    "context = (\n",
    "    RunnableParallel(\n",
    "        # Get list of documents, necessary for reference analysis\n",
    "        documents=(itemgetter(\"question\") | retriever),\n",
    "        # and question\n",
    "        question=itemgetter(\"question\"),\n",
    "    ).assign(\n",
    "        context=lambda input: format_docs(input[\"documents\"]),\n",
    "        format_references=lambda _: FORMAT_REFERENCES,\n",
    "    )\n",
    ")"
   ],
   "id": "2901f6a06a5b05ec",
   "outputs": [],
   "execution_count": 22
  },
  {
   "metadata": {
    "ExecuteTime": {
     "end_time": "2024-08-13T08:42:40.851436Z",
     "start_time": "2024-08-13T08:42:40.561948Z"
    }
   },
   "cell_type": "code",
   "source": "context.invoke({\"question\": question}).keys()",
   "id": "ee6919f8a3d3eefe",
   "outputs": [
    {
     "data": {
      "text/plain": [
       "dict_keys(['documents', 'question', 'context', 'format_references'])"
      ]
     },
     "execution_count": 23,
     "metadata": {},
     "output_type": "execute_result"
    }
   ],
   "execution_count": 23
  },
  {
   "metadata": {
    "ExecuteTime": {
     "end_time": "2024-08-13T08:42:46.563243Z",
     "start_time": "2024-08-13T08:42:46.559173Z"
    }
   },
   "cell_type": "code",
   "source": [
    "chain = (\n",
    "        context\n",
    "        | rag_prompt\n",
    "        | model\n",
    ")"
   ],
   "id": "efeb66eb585238e1",
   "outputs": [],
   "execution_count": 24
  },
  {
   "metadata": {
    "ExecuteTime": {
     "end_time": "2024-08-13T08:43:17.663715Z",
     "start_time": "2024-08-13T08:43:15.840280Z"
    }
   },
   "cell_type": "code",
   "source": "pprint((chain | StrOutputParser()).invoke({\"question\": question}))",
   "id": "c197af402435e5e8",
   "outputs": [
    {
     "name": "stdout",
     "output_type": "stream",
     "text": [
      "('Mathematical games are structured activities with clear rules and '\n",
      " 'strategies, often focused on recreational and educational aspects, such as '\n",
      " 'enhancing arithmetic skills through play [1](id=1). In contrast, mathematics '\n",
      " 'competitions, like the International Mathematical Olympiad, are formal '\n",
      " 'events where participants solve complex mathematical problems under '\n",
      " 'competitive conditions [2](id=2). While games emphasize enjoyment and '\n",
      " 'learning, competitions prioritize skill demonstration and problem-solving '\n",
      " 'capabilities.')\n"
     ]
    }
   ],
   "execution_count": 27
  },
  {
   "metadata": {
    "ExecuteTime": {
     "end_time": "2024-08-13T08:45:09.464235Z",
     "start_time": "2024-08-13T08:45:07.823806Z"
    }
   },
   "cell_type": "code",
   "source": [
    "answer = (context | manage_references(rag_prompt | model) | StrOutputParser() ).invoke({\"question\": question})\n",
    "pprint(answer)"
   ],
   "id": "beb81729e703bb6b",
   "outputs": [
    {
     "name": "stdout",
     "output_type": "stream",
     "text": [
      "('Mathematical games are defined by clear mathematical parameters and often '\n",
      " 'involve strategies that do not require deep mathematical knowledge to play, '\n",
      " 'while mathematical competitions are structured events where participants '\n",
      " 'solve math problems, often under time constraints. Games are typically '\n",
      " 'recreational and can enhance arithmetic skills, whereas competitions focus '\n",
      " 'on testing mathematical proficiency and problem-solving abilities. Thus, the '\n",
      " 'former emphasizes enjoyment and learning, while the latter emphasizes '\n",
      " 'performance and assessment in mathematics '\n",
      " '<sup>[[1](https://en.wikipedia.org/wiki/Mathematical_game)]</sup><sup>[[2](https://en.wikipedia.org/wiki/List_of_mathematics_competitions)]</sup>\\n'\n",
      " '\\n'\n",
      " '- **1** [Mathematical '\n",
      " 'game](https://en.wikipedia.org/wiki/Mathematical_game)\\n'\n",
      " '- **2** [List of mathematics '\n",
      " 'competitions](https://en.wikipedia.org/wiki/List_of_mathematics_competitions)\\n')\n"
     ]
    }
   ],
   "execution_count": 31
  },
  {
   "metadata": {
    "ExecuteTime": {
     "end_time": "2024-08-13T08:45:25.750885Z",
     "start_time": "2024-08-13T08:45:25.746860Z"
    }
   },
   "cell_type": "code",
   "source": "display(Markdown(answer))",
   "id": "7ee42349f02b944c",
   "outputs": [
    {
     "data": {
      "text/plain": [
       "<IPython.core.display.Markdown object>"
      ],
      "text/markdown": "Mathematical games are defined by clear mathematical parameters and often involve strategies that do not require deep mathematical knowledge to play, while mathematical competitions are structured events where participants solve math problems, often under time constraints. Games are typically recreational and can enhance arithmetic skills, whereas competitions focus on testing mathematical proficiency and problem-solving abilities. Thus, the former emphasizes enjoyment and learning, while the latter emphasizes performance and assessment in mathematics <sup>[[1](https://en.wikipedia.org/wiki/Mathematical_game)]</sup><sup>[[2](https://en.wikipedia.org/wiki/List_of_mathematics_competitions)]</sup>\n\n- **1** [Mathematical game](https://en.wikipedia.org/wiki/Mathematical_game)\n- **2** [List of mathematics competitions](https://en.wikipedia.org/wiki/List_of_mathematics_competitions)\n"
     },
     "metadata": {},
     "output_type": "display_data"
    }
   ],
   "execution_count": 32
  },
  {
   "metadata": {},
   "cell_type": "code",
   "source": "",
   "id": "a339a4138fcf3a43",
   "outputs": [],
   "execution_count": null
  }
 ],
 "metadata": {
  "kernelspec": {
   "display_name": "langchain-references",
   "language": "python",
   "name": "langchain-references"
  },
  "language_info": {
   "codemirror_mode": {
    "name": "ipython",
    "version": 2
   },
   "file_extension": ".py",
   "mimetype": "text/x-python",
   "name": "python",
   "nbconvert_exporter": "python",
   "pygments_lexer": "ipython2",
   "version": "2.7.6"
  }
 },
 "nbformat": 4,
 "nbformat_minor": 5
}
