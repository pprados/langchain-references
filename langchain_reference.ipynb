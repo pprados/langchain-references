{
 "cells": [
  {
   "metadata": {},
   "cell_type": "markdown",
   "source": [
    "# Setup\n",
    "[![Open in Colab](https://colab.research.google.com/assets/colab-badge.svg)](https://colab.research.google.com/github/pprados/langchain-references/blob/master/langchain_reference.ipynb)\n"
   ],
   "id": "c86f3d83ad4a715a"
  },
  {
   "metadata": {
    "ExecuteTime": {
     "end_time": "2024-09-16T09:23:33.776437Z",
     "start_time": "2024-09-16T09:23:32.678220Z"
    }
   },
   "cell_type": "code",
   "source": "!python -m pip -q install --upgrade pip",
   "id": "dc957a611930f73c",
   "outputs": [],
   "execution_count": 15
  },
  {
   "metadata": {
    "ExecuteTime": {
     "end_time": "2024-09-16T09:23:40.315950Z",
     "start_time": "2024-09-16T09:23:33.793744Z"
    }
   },
   "cell_type": "code",
   "source": [
    "# Document loading, retrieval methods and text splitting\n",
    "%pip install -qU wikipedia\n",
    "\n",
    "%pip install -qU langchain-references\n",
    "%pip install -qU langchain-community\n",
    "%pip install -qU langchain-text-splitters\n",
    "\n",
    "# Local vector store via Chroma\n",
    "%pip install -qU langchain-chroma\n",
    "\n",
    "# inference and embeddings \n",
    "%pip install -qU langchain-openai"
   ],
   "id": "aa3cb4127a38ba2c",
   "outputs": [
    {
     "name": "stdout",
     "output_type": "stream",
     "text": [
      "Note: you may need to restart the kernel to use updated packages.\n",
      "Note: you may need to restart the kernel to use updated packages.\n",
      "Note: you may need to restart the kernel to use updated packages.\n",
      "Note: you may need to restart the kernel to use updated packages.\n",
      "Note: you may need to restart the kernel to use updated packages.\n",
      "Note: you may need to restart the kernel to use updated packages.\n"
     ]
    }
   ],
   "execution_count": 16
  },
  {
   "metadata": {
    "ExecuteTime": {
     "end_time": "2024-09-16T09:23:40.356004Z",
     "start_time": "2024-09-16T09:23:40.350651Z"
    }
   },
   "cell_type": "code",
   "source": [
    "import langchain_references\n",
    "\n",
    "langchain_references.__version__"
   ],
   "id": "eb8191ca50131426",
   "outputs": [
    {
     "data": {
      "text/plain": [
       "'0.0.0'"
      ]
     },
     "execution_count": 17,
     "metadata": {},
     "output_type": "execute_result"
    }
   ],
   "execution_count": 17
  },
  {
   "metadata": {},
   "cell_type": "markdown",
   "source": [
    "# Document loading, retrieval methods and text splitting\n",
    "Load documents from the web and split them into smaller chunks for processing."
   ],
   "id": "83768f43742ddfb4"
  },
  {
   "metadata": {
    "ExecuteTime": {
     "end_time": "2024-09-16T09:23:51.875584Z",
     "start_time": "2024-09-16T09:23:40.386843Z"
    }
   },
   "cell_type": "code",
   "source": [
    "import os\n",
    "from pprint import pprint\n",
    "\n",
    "os.environ[\"USER_AGENT\"] = \"langhchain-references\"\n",
    "\n",
    "from langchain_community.retrievers import WikipediaRetriever\n",
    "\n",
    "documents = WikipediaRetriever(\n",
    "    top_k_results=10,\n",
    "    doc_content_chars_max=2000\n",
    ").invoke(\"mathematic\")\n"
   ],
   "id": "4ead84bd97afdfdf",
   "outputs": [],
   "execution_count": 18
  },
  {
   "metadata": {
    "ExecuteTime": {
     "end_time": "2024-09-16T09:23:51.912867Z",
     "start_time": "2024-09-16T09:23:51.907881Z"
    }
   },
   "cell_type": "code",
   "source": "pprint([(doc.metadata[\"title\"], doc.metadata[\"source\"]) for doc in documents])",
   "id": "e4ffd3c1f4353224",
   "outputs": [
    {
     "name": "stdout",
     "output_type": "stream",
     "text": [
      "[('Mathematics', 'https://en.wikipedia.org/wiki/Mathematics'),\n",
      " ('History of mathematics',\n",
      "  'https://en.wikipedia.org/wiki/History_of_mathematics'),\n",
      " ('Mathematical Reviews', 'https://en.wikipedia.org/wiki/Mathematical_Reviews'),\n",
      " ('List of mathematics competitions',\n",
      "  'https://en.wikipedia.org/wiki/List_of_mathematics_competitions'),\n",
      " ('Applied mathematics', 'https://en.wikipedia.org/wiki/Applied_mathematics'),\n",
      " ('List of mathematics awards',\n",
      "  'https://en.wikipedia.org/wiki/List_of_mathematics_awards'),\n",
      " ('Group (mathematics)', 'https://en.wikipedia.org/wiki/Group_(mathematics)'),\n",
      " ('Indian mathematics', 'https://en.wikipedia.org/wiki/Indian_mathematics'),\n",
      " ('Mathematical sciences',\n",
      "  'https://en.wikipedia.org/wiki/Mathematical_sciences'),\n",
      " ('Encyclopedia of Mathematics',\n",
      "  'https://en.wikipedia.org/wiki/Encyclopedia_of_Mathematics')]\n"
     ]
    }
   ],
   "execution_count": 19
  },
  {
   "metadata": {
    "ExecuteTime": {
     "end_time": "2024-09-16T09:23:51.990811Z",
     "start_time": "2024-09-16T09:23:51.987613Z"
    }
   },
   "cell_type": "code",
   "source": [
    "import os\n",
    "from getpass import getpass\n",
    "\n",
    "if not os.environ.get(\"OPENAI_API_KEY\"):\n",
    "    os.environ[\"OPENAI_API_KEY\"] = getpass()"
   ],
   "id": "98a8edf012a12788",
   "outputs": [],
   "execution_count": 20
  },
  {
   "metadata": {
    "ExecuteTime": {
     "end_time": "2024-09-16T09:23:52.155604Z",
     "start_time": "2024-09-16T09:23:52.034447Z"
    }
   },
   "cell_type": "code",
   "source": [
    "from langchain_openai import OpenAIEmbeddings, ChatOpenAI\n",
    "\n",
    "embeddings = OpenAIEmbeddings()\n",
    "model = ChatOpenAI(model=\"gpt-4o-mini\")"
   ],
   "id": "2727b610e8d1dab",
   "outputs": [],
   "execution_count": 21
  },
  {
   "metadata": {},
   "cell_type": "markdown",
   "source": "Load the documents into a vector store.",
   "id": "7dec526917833040"
  },
  {
   "metadata": {
    "ExecuteTime": {
     "end_time": "2024-09-16T09:23:53.078812Z",
     "start_time": "2024-09-16T09:23:52.180548Z"
    }
   },
   "cell_type": "code",
   "source": [
    "from langchain_chroma import Chroma\n",
    "\n",
    "vectorstore = Chroma.from_documents(documents=documents,\n",
    "                                    embedding=embeddings,\n",
    "                                    )"
   ],
   "id": "5f9d7467fe848c28",
   "outputs": [],
   "execution_count": 22
  },
  {
   "metadata": {},
   "cell_type": "markdown",
   "source": "Create a context with a combination of documents in a single string, with a single numerical identifier.",
   "id": "1d490499f3dd0f2a"
  },
  {
   "metadata": {
    "ExecuteTime": {
     "end_time": "2024-09-16T09:23:53.090046Z",
     "start_time": "2024-09-16T09:23:53.086839Z"
    }
   },
   "cell_type": "code",
   "source": [
    "def format_docs(docs):\n",
    "    # return \"\\n\\n\".join(doc.page_content for doc in docs)\n",
    "    return \"\\n\".join(\n",
    "        # Add a document id so that LLM can reference it \n",
    "        [f\"<document id={i + 1}>\\n{doc.page_content}\\n</document>\\n\" for i, doc in\n",
    "         enumerate(docs)]\n",
    "    )\n"
   ],
   "id": "e1ab24ab1ce6756a",
   "outputs": [],
   "execution_count": 23
  },
  {
   "metadata": {},
   "cell_type": "markdown",
   "source": "# Manage references with langchain-reference",
   "id": "66fa627b954ca485"
  },
  {
   "metadata": {},
   "cell_type": "markdown",
   "source": "Create a prompt with `{format_references}`, `{context}` and `{question}` placeholders.",
   "id": "40dbd4cd88b69484"
  },
  {
   "metadata": {
    "ExecuteTime": {
     "end_time": "2024-09-16T09:23:53.134635Z",
     "start_time": "2024-09-16T09:23:53.131479Z"
    }
   },
   "cell_type": "code",
   "source": [
    "from langchain_core.prompts import ChatPromptTemplate\n",
    "from langchain_core.runnables import RunnablePassthrough\n",
    "\n",
    "RAG_TEMPLATE = \"\"\"\n",
    "You are an assistant for question-answering tasks. Use the following pieces of retrieved documents to answer the question. \n",
    "If you don't know the answer, just say that you don't know. Use three sentences maximum and keep the answer concise.\n",
    "\n",
    "{format_references}\n",
    "  \n",
    "<documents>\n",
    "{context}\n",
    "</documents>\n",
    "\n",
    "Answer the following question:\n",
    "\n",
    "{question}\"\"\"\n",
    "\n",
    "rag_prompt = ChatPromptTemplate.from_template(RAG_TEMPLATE)"
   ],
   "id": "17de643f3bab60f0",
   "outputs": [],
   "execution_count": 24
  },
  {
   "metadata": {},
   "cell_type": "markdown",
   "source": "Create a context with documents and format_references.",
   "id": "ae2da97e71ccc295"
  },
  {
   "metadata": {
    "ExecuteTime": {
     "end_time": "2024-09-16T09:23:53.185528Z",
     "start_time": "2024-09-16T09:23:53.182490Z"
    }
   },
   "cell_type": "code",
   "source": [
    "from langchain_references import FORMAT_REFERENCES\n",
    "\n",
    "context = RunnablePassthrough.assign(\n",
    "    context=lambda input: format_docs(input[\"documents\"]),\n",
    "    format_references=lambda _: FORMAT_REFERENCES,\n",
    ")\n",
    "pprint(FORMAT_REFERENCES)"
   ],
   "id": "6bb1bd80c65a3fe8",
   "outputs": [
    {
     "name": "stdout",
     "output_type": "stream",
     "text": [
      "('When referencing the documents, add a citation right after. Use '\n",
      " '\"[NUMBER](id=ID_NUMBER)\" for the citation (e.g. \"The Space Needle is in '\n",
      " 'Seattle [1](id=55)[2](id=12).\").')\n"
     ]
    }
   ],
   "execution_count": 25
  },
  {
   "metadata": {},
   "cell_type": "markdown",
   "source": "Create a chain with the `context`, `rag_prompt` and `model`.",
   "id": "8cb0d6f292c89f32"
  },
  {
   "metadata": {
    "ExecuteTime": {
     "end_time": "2024-09-16T09:23:53.237450Z",
     "start_time": "2024-09-16T09:23:53.234742Z"
    }
   },
   "cell_type": "code",
   "source": [
    "from langchain_core.output_parsers import StrOutputParser\n",
    "\n",
    "# Invoke the chain without `manage_references()`\n",
    "chain = (\n",
    "        context\n",
    "        | rag_prompt\n",
    "        | model\n",
    ")"
   ],
   "id": "1d37c8e5dd74989f",
   "outputs": [],
   "execution_count": 26
  },
  {
   "metadata": {},
   "cell_type": "markdown",
   "source": "Select documents similar to the question.",
   "id": "fc1726be7a2701da"
  },
  {
   "metadata": {
    "ExecuteTime": {
     "end_time": "2024-09-16T09:23:53.570365Z",
     "start_time": "2024-09-16T09:23:53.281191Z"
    }
   },
   "cell_type": "code",
   "source": [
    "question = \"What is the difference kind of games and competition of mathematics?\"\n",
    "\n",
    "docs = vectorstore.similarity_search(question, k=6)\n",
    "pprint([(d.metadata[\"title\"], d.metadata[\"source\"]) for d in docs])"
   ],
   "id": "5cfa4443804b318e",
   "outputs": [
    {
     "name": "stdout",
     "output_type": "stream",
     "text": [
      "[('Mathematical game', 'https://en.wikipedia.org/wiki/Mathematical_game'),\n",
      " ('List of mathematics competitions',\n",
      "  'https://en.wikipedia.org/wiki/List_of_mathematics_competitions'),\n",
      " ('List of mathematics competitions',\n",
      "  'https://en.wikipedia.org/wiki/List_of_mathematics_competitions'),\n",
      " ('Mathematics', 'https://en.wikipedia.org/wiki/Mathematics'),\n",
      " ('Mathematics', 'https://en.wikipedia.org/wiki/Mathematics'),\n",
      " ('History of mathematics',\n",
      "  'https://en.wikipedia.org/wiki/History_of_mathematics')]\n"
     ]
    }
   ],
   "execution_count": 27
  },
  {
   "metadata": {},
   "cell_type": "markdown",
   "source": "Invoke the chain with the `documents` and `question`, but without `manage_references()`. You can see some **\\[1](id=1)** references in the answer.",
   "id": "f018a406e58e2768"
  },
  {
   "metadata": {
    "ExecuteTime": {
     "end_time": "2024-09-16T09:23:54.821982Z",
     "start_time": "2024-09-16T09:23:53.584004Z"
    }
   },
   "cell_type": "code",
   "source": [
    "answer = (chain | StrOutputParser()).invoke({\"documents\": docs, \"question\": question})\n",
    "answer"
   ],
   "id": "5f5d2df72ae94ae8",
   "outputs": [
    {
     "data": {
      "text/plain": [
       "'Mathematical games are typically defined by clear rules and strategies that can be analyzed mathematically, often focusing on recreational aspects without requiring deep mathematical knowledge to play [1](id=1). In contrast, mathematics competitions involve participants completing tests that may require problem-solving skills, proofs, or detailed answers, often under competitive conditions [2](id=2). Thus, the former emphasizes play and strategy, while the latter emphasizes assessment and skill in mathematics.'"
      ]
     },
     "execution_count": 28,
     "metadata": {},
     "output_type": "execute_result"
    }
   ],
   "execution_count": 28
  },
  {
   "metadata": {},
   "cell_type": "markdown",
   "source": "Invoke the chain with the `documents` and `question` with `manage_references()`.",
   "id": "1db0b7d9ce0804db"
  },
  {
   "metadata": {
    "ExecuteTime": {
     "end_time": "2024-09-16T09:23:54.862623Z",
     "start_time": "2024-09-16T09:23:54.858923Z"
    }
   },
   "cell_type": "code",
   "source": [
    "from langchain_references import manage_references\n",
    "\n",
    "managed_chain = context | manage_references(rag_prompt | model)"
   ],
   "id": "814b91c517ad8a70",
   "outputs": [],
   "execution_count": 29
  },
  {
   "metadata": {
    "ExecuteTime": {
     "end_time": "2024-09-16T09:23:55.933612Z",
     "start_time": "2024-09-16T09:23:54.907581Z"
    }
   },
   "cell_type": "code",
   "source": [
    "\n",
    "answer = (managed_chain | StrOutputParser()).invoke(\n",
    "    {\"documents\": docs, \"question\": question})\n",
    "pprint(answer)"
   ],
   "id": "5bd0e15a5da4e77a",
   "outputs": [
    {
     "name": "stdout",
     "output_type": "stream",
     "text": [
      "('Mathematical games are generally defined by clear rules and strategies, '\n",
      " 'allowing players to engage without requiring deep mathematical knowledge, '\n",
      " 'focusing instead on enjoyment and skill '\n",
      " '<sup>[[1](https://en.wikipedia.org/wiki/Mathematical_game)]</sup> In '\n",
      " 'contrast, mathematics competitions, such as mathematical olympiads, involve '\n",
      " 'participants completing tests that may include multiple-choice questions or '\n",
      " 'proofs, emphasizing problem-solving and mathematical expertise '\n",
      " '<sup>[[2](https://en.wikipedia.org/wiki/List_of_mathematics_competitions)]</sup> '\n",
      " 'Thus, the primary distinction lies in the recreational nature of games '\n",
      " 'versus the academic challenge of competitions.\\n'\n",
      " '\\n'\n",
      " '- **1** [Mathematical '\n",
      " 'game](https://en.wikipedia.org/wiki/Mathematical_game)\\n'\n",
      " '- **2** [List of mathematics '\n",
      " 'competitions](https://en.wikipedia.org/wiki/List_of_mathematics_competitions)\\n')\n"
     ]
    }
   ],
   "execution_count": 30
  },
  {
   "metadata": {
    "ExecuteTime": {
     "end_time": "2024-09-16T09:23:55.946673Z",
     "start_time": "2024-09-16T09:23:55.943678Z"
    }
   },
   "cell_type": "code",
   "source": [
    "# Print in markdown format\n",
    "from IPython.display import display, Markdown\n",
    "\n",
    "display(Markdown(answer))"
   ],
   "id": "5f9f80470fab785b",
   "outputs": [
    {
     "data": {
      "text/plain": [
       "<IPython.core.display.Markdown object>"
      ],
      "text/markdown": "Mathematical games are generally defined by clear rules and strategies, allowing players to engage without requiring deep mathematical knowledge, focusing instead on enjoyment and skill <sup>[[1](https://en.wikipedia.org/wiki/Mathematical_game)]</sup> In contrast, mathematics competitions, such as mathematical olympiads, involve participants completing tests that may include multiple-choice questions or proofs, emphasizing problem-solving and mathematical expertise <sup>[[2](https://en.wikipedia.org/wiki/List_of_mathematics_competitions)]</sup> Thus, the primary distinction lies in the recreational nature of games versus the academic challenge of competitions.\n\n- **1** [Mathematical game](https://en.wikipedia.org/wiki/Mathematical_game)\n- **2** [List of mathematics competitions](https://en.wikipedia.org/wiki/List_of_mathematics_competitions)\n"
     },
     "metadata": {},
     "output_type": "display_data"
    }
   ],
   "execution_count": 31
  },
  {
   "metadata": {},
   "cell_type": "markdown",
   "source": [
    "# Chain with retriever\n",
    "The previous model requires the list of documents to be obtained before invoking the chain.\n",
    "But, it's possible to use a retriever to get the documents and invoke the chain in a single step."
   ],
   "id": "ac839308a9b9bf9c"
  },
  {
   "metadata": {
    "ExecuteTime": {
     "end_time": "2024-09-16T09:23:55.996245Z",
     "start_time": "2024-09-16T09:23:55.992742Z"
    }
   },
   "cell_type": "code",
   "source": [
    "from operator import itemgetter\n",
    "from langchain_core.runnables import RunnableParallel\n",
    "\n",
    "retriever = vectorstore.as_retriever(search_kwargs={\"k\": 6})\n",
    "context = (\n",
    "    RunnableParallel(\n",
    "        # Get list of documents, necessary for reference analysis\n",
    "        documents=(itemgetter(\"question\") | retriever),\n",
    "        # and question\n",
    "        question=itemgetter(\"question\"),\n",
    "    ).assign(\n",
    "        context=lambda input: format_docs(input[\"documents\"]),\n",
    "        format_references=lambda _: FORMAT_REFERENCES,\n",
    "    )\n",
    ")"
   ],
   "id": "2901f6a06a5b05ec",
   "outputs": [],
   "execution_count": 32
  },
  {
   "metadata": {
    "ExecuteTime": {
     "end_time": "2024-09-16T09:23:56.312151Z",
     "start_time": "2024-09-16T09:23:56.044421Z"
    }
   },
   "cell_type": "code",
   "source": "context.invoke({\"question\": question}).keys()",
   "id": "ee6919f8a3d3eefe",
   "outputs": [
    {
     "data": {
      "text/plain": [
       "dict_keys(['documents', 'question', 'context', 'format_references'])"
      ]
     },
     "execution_count": 33,
     "metadata": {},
     "output_type": "execute_result"
    }
   ],
   "execution_count": 33
  },
  {
   "metadata": {
    "ExecuteTime": {
     "end_time": "2024-09-16T09:23:56.337692Z",
     "start_time": "2024-09-16T09:23:56.334912Z"
    }
   },
   "cell_type": "code",
   "source": [
    "chain = (\n",
    "        context\n",
    "        | rag_prompt\n",
    "        | model\n",
    ")"
   ],
   "id": "efeb66eb585238e1",
   "outputs": [],
   "execution_count": 34
  },
  {
   "metadata": {
    "ExecuteTime": {
     "end_time": "2024-09-16T09:23:58.016866Z",
     "start_time": "2024-09-16T09:23:56.380240Z"
    }
   },
   "cell_type": "code",
   "source": "pprint((chain | StrOutputParser()).invoke({\"question\": question}))",
   "id": "c197af402435e5e8",
   "outputs": [
    {
     "name": "stdout",
     "output_type": "stream",
     "text": [
      "('Mathematical games are structured activities defined by clear mathematical '\n",
      " 'rules and strategies, often involving elements of chance or strategy, and '\n",
      " 'can enhance arithmetic skills in an engaging manner [1](id=1). In contrast, '\n",
      " 'mathematics competitions, such as mathematical olympiads, are formal events '\n",
      " 'where participants solve math problems or proofs, often under timed '\n",
      " 'conditions [2](id=2). The primary distinction lies in the interactive, '\n",
      " 'playful nature of games versus the competitive, evaluative context of '\n",
      " 'competitions.')\n"
     ]
    }
   ],
   "execution_count": 35
  },
  {
   "metadata": {
    "ExecuteTime": {
     "end_time": "2024-09-16T09:23:59.806971Z",
     "start_time": "2024-09-16T09:23:58.060835Z"
    }
   },
   "cell_type": "code",
   "source": [
    "answer = (context | manage_references(rag_prompt | model) | StrOutputParser() ).invoke({\"question\": question})\n",
    "pprint(answer)"
   ],
   "id": "beb81729e703bb6b",
   "outputs": [
    {
     "name": "stdout",
     "output_type": "stream",
     "text": [
      "('Mathematical games are structured activities defined by clear mathematical '\n",
      " 'rules and strategies, often focusing on skill development without requiring '\n",
      " 'deep mathematical knowledge, such as tic-tac-toe or chess '\n",
      " '<sup>[[1](https://en.wikipedia.org/wiki/Mathematical_game)]</sup> In '\n",
      " 'contrast, mathematics competitions are formal events where participants '\n",
      " 'solve mathematical problems, often requiring significant knowledge and '\n",
      " 'understanding of mathematics, like the International Mathematical Olympiad '\n",
      " '<sup>[[2](https://en.wikipedia.org/wiki/List_of_mathematics_competitions)]</sup> '\n",
      " 'Thus, the primary difference lies in the nature of engagement: games are '\n",
      " 'recreational and skill-based, while competitions are serious and '\n",
      " 'knowledge-based.\\n'\n",
      " '\\n'\n",
      " '- **1** [Mathematical '\n",
      " 'game](https://en.wikipedia.org/wiki/Mathematical_game)\\n'\n",
      " '- **2** [List of mathematics '\n",
      " 'competitions](https://en.wikipedia.org/wiki/List_of_mathematics_competitions)\\n')\n"
     ]
    }
   ],
   "execution_count": 36
  },
  {
   "metadata": {
    "ExecuteTime": {
     "end_time": "2024-09-16T09:23:59.842597Z",
     "start_time": "2024-09-16T09:23:59.836372Z"
    }
   },
   "cell_type": "code",
   "source": "display(Markdown(answer))",
   "id": "7ee42349f02b944c",
   "outputs": [
    {
     "data": {
      "text/plain": [
       "<IPython.core.display.Markdown object>"
      ],
      "text/markdown": "Mathematical games are structured activities defined by clear mathematical rules and strategies, often focusing on skill development without requiring deep mathematical knowledge, such as tic-tac-toe or chess <sup>[[1](https://en.wikipedia.org/wiki/Mathematical_game)]</sup> In contrast, mathematics competitions are formal events where participants solve mathematical problems, often requiring significant knowledge and understanding of mathematics, like the International Mathematical Olympiad <sup>[[2](https://en.wikipedia.org/wiki/List_of_mathematics_competitions)]</sup> Thus, the primary difference lies in the nature of engagement: games are recreational and skill-based, while competitions are serious and knowledge-based.\n\n- **1** [Mathematical game](https://en.wikipedia.org/wiki/Mathematical_game)\n- **2** [List of mathematics competitions](https://en.wikipedia.org/wiki/List_of_mathematics_competitions)\n"
     },
     "metadata": {},
     "output_type": "display_data"
    }
   ],
   "execution_count": 37
  },
  {
   "metadata": {},
   "cell_type": "markdown",
   "source": [
    "## Customize the references format\n",
    "It's possible to customize the references format and remove some reference, and delete references, because a chunk cannot be referenced and the corresponding document has too many pages"
   ],
   "id": "a4b3340f85524c40"
  },
  {
   "metadata": {
    "ExecuteTime": {
     "end_time": "2024-09-16T09:24:01.294356Z",
     "start_time": "2024-09-16T09:23:59.905851Z"
    }
   },
   "cell_type": "code",
   "source": [
    "from langchain_core.documents.base import BaseMedia\n",
    "from langchain_references import ReferenceStyle\n",
    "from typing import List, Tuple\n",
    "\n",
    "\n",
    "class MyReferenceStyle(ReferenceStyle):\n",
    "    # If document hasn't \"header 1\" and the total_pages is > 3, remove the reference\n",
    "    source_id_key = \"source\"\n",
    "    chunk_anchor_key = \"header 1\"\n",
    "    total_pages_key = \"total_pages\"\n",
    "    max_total_pages = 3\n",
    "\n",
    "    def format_reference(self, ref: int, media: BaseMedia) -> str:\n",
    "        if media.metadata.get(self.chunk_anchor_key) is None:\n",
    "            # Detect chunks without a specific references in the document\n",
    "            # If the size of the document is too big, remove the reference\n",
    "            get_total_pages = self._get_key_assigner(self.total_pages_key)\n",
    "            total_pages = get_total_pages(media)\n",
    "            if total_pages and total_pages > self.max_total_pages:\n",
    "                return None\n",
    "        return f\"[{ref}]\"\n",
    "\n",
    "    def format_all_references(self, refs: List[Tuple[int, BaseMedia]]) -> str:\n",
    "        if not refs:\n",
    "            return \"\"\n",
    "        result = []\n",
    "        for ref, media in refs:\n",
    "            source = media.metadata[self.source_id_key]\n",
    "            if media.metadata.get(self.chunk_anchor_key):\n",
    "                # Add the anchor to the chunk to the source\n",
    "                source += \"#\" + media.metadata[self.chunk_anchor_key]\n",
    "            if \"title\" in media.metadata:\n",
    "                result.append(f\"- [{ref}] {media.metadata['title']} ({source})\\n\")\n",
    "            else:\n",
    "                result.append(f\"- [{ref}] {source}\\n\")\n",
    "        if not result:\n",
    "            return \"\"\n",
    "        return \"\\n\\n\" + \"\".join(result)\n",
    "\n",
    "answer = (context | manage_references(rag_prompt | model,\n",
    "                                      style=MyReferenceStyle()) | StrOutputParser() ).invoke({\"question\": question})\n",
    "display(Markdown(answer))"
   ],
   "id": "6e788fe37184a6c",
   "outputs": [
    {
     "data": {
      "text/plain": [
       "<IPython.core.display.Markdown object>"
      ],
      "text/markdown": "Mathematical games involve clear mathematical parameters and are designed for play, often focusing on strategy and skill, such as chess or checkers [1] In contrast, mathematics competitions, like the International Mathematical Olympiad, are structured events where participants solve mathematical problems, often requiring detailed proofs or solutions [2][2] While games are primarily recreational, competitions are competitive and evaluative in nature.\n\n- [1] Mathematical game (https://en.wikipedia.org/wiki/Mathematical_game)\n- [2] List of mathematics competitions (https://en.wikipedia.org/wiki/List_of_mathematics_competitions)\n"
     },
     "metadata": {},
     "output_type": "display_data"
    }
   ],
   "execution_count": 38
  }
 ],
 "metadata": {
  "kernelspec": {
   "display_name": "langchain-references",
   "language": "python",
   "name": "langchain-references"
  },
  "language_info": {
   "codemirror_mode": {
    "name": "ipython",
    "version": 2
   },
   "file_extension": ".py",
   "mimetype": "text/x-python",
   "name": "python",
   "nbconvert_exporter": "python",
   "pygments_lexer": "ipython2",
   "version": "2.7.6"
  }
 },
 "nbformat": 4,
 "nbformat_minor": 5
}
