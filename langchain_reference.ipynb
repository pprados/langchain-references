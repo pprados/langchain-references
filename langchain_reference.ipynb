{
 "cells": [
  {
   "metadata": {},
   "cell_type": "markdown",
   "source": "# Setup",
   "id": "c86f3d83ad4a715a"
  },
  {
   "metadata": {},
   "cell_type": "code",
   "source": [
    "!python -m pip -q install --upgrade pip\n",
    "!pip install -e ."
   ],
   "id": "dc957a611930f73c",
   "outputs": [],
   "execution_count": null
  },
  {
   "metadata": {},
   "cell_type": "code",
   "source": [
    "# Document loading, retrieval methods and text splitting\n",
    "%pip install -qU wikipedia\n",
    "\n",
    "%pip install -qU langchain-references\n",
    "%pip install -qU langchain-community\n",
    "%pip install -qU langchain-text-splitters\n",
    "\n",
    "# Local vector store via Chroma\n",
    "%pip install -qU langchain-chroma\n",
    "\n",
    "# inference and embeddings \n",
    "%pip install -qU langchain-openai"
   ],
   "id": "aa3cb4127a38ba2c",
   "outputs": [],
   "execution_count": null
  },
  {
   "metadata": {},
   "cell_type": "code",
   "source": [
    "import langchain_references\n",
    "\n",
    "langchain_references.__version__"
   ],
   "id": "eb8191ca50131426",
   "outputs": [],
   "execution_count": null
  },
  {
   "metadata": {},
   "cell_type": "markdown",
   "source": [
    "# Document loading, retrieval methods and text splitting\n",
    "Load documents from the web and split them into smaller chunks for processing."
   ],
   "id": "83768f43742ddfb4"
  },
  {
   "metadata": {
    "ExecuteTime": {
     "end_time": "2024-08-12T08:26:50.582322Z",
     "start_time": "2024-08-12T08:26:41.322645Z"
    }
   },
   "cell_type": "code",
   "source": [
    "import os\n",
    "\n",
    "os.environ[\"USER_AGENT\"] = \"langhchain-references\"\n",
    "\n",
    "from langchain_text_splitters import RecursiveCharacterTextSplitter\n",
    "from langchain_community.document_loaders import WebBaseLoader\n",
    "\n",
    "from langchain_community.retrievers import WikipediaRetriever\n",
    "\n",
    "documents = WikipediaRetriever(\n",
    "    top_k_results=10, \n",
    "    doc_content_chars_max=2000\n",
    ").invoke(\"mathematic\")\n"
   ],
   "id": "4ead84bd97afdfdf",
   "outputs": [],
   "execution_count": 95
  },
  {
   "metadata": {
    "ExecuteTime": {
     "end_time": "2024-08-12T08:27:23.870972Z",
     "start_time": "2024-08-12T08:27:23.867327Z"
    }
   },
   "cell_type": "code",
   "source": "[(doc.metadata[\"title\"],doc.metadata[\"source\"]) for doc in documents]",
   "id": "e4ffd3c1f4353224",
   "outputs": [
    {
     "data": {
      "text/plain": [
       "[('Mathematics', 'https://en.wikipedia.org/wiki/Mathematics'),\n",
       " ('History of mathematics',\n",
       "  'https://en.wikipedia.org/wiki/History_of_mathematics'),\n",
       " ('Mathematical Reviews',\n",
       "  'https://en.wikipedia.org/wiki/Mathematical_Reviews'),\n",
       " ('List of mathematics competitions',\n",
       "  'https://en.wikipedia.org/wiki/List_of_mathematics_competitions'),\n",
       " ('Mathematical game', 'https://en.wikipedia.org/wiki/Mathematical_game'),\n",
       " ('Applied mathematics', 'https://en.wikipedia.org/wiki/Applied_mathematics'),\n",
       " ('Mathematical sciences',\n",
       "  'https://en.wikipedia.org/wiki/Mathematical_sciences'),\n",
       " ('Mathematical logic', 'https://en.wikipedia.org/wiki/Mathematical_logic'),\n",
       " ('List of mathematics awards',\n",
       "  'https://en.wikipedia.org/wiki/List_of_mathematics_awards'),\n",
       " ('Philosophy of mathematics',\n",
       "  'https://en.wikipedia.org/wiki/Philosophy_of_mathematics')]"
      ]
     },
     "execution_count": 96,
     "metadata": {},
     "output_type": "execute_result"
    }
   ],
   "execution_count": 96
  },
  {
   "metadata": {
    "ExecuteTime": {
     "end_time": "2024-08-12T08:27:59.463935Z",
     "start_time": "2024-08-12T08:27:59.460987Z"
    }
   },
   "cell_type": "code",
   "source": [
    "import os\n",
    "from getpass import getpass\n",
    "\n",
    "if not os.environ.get(\"OPENAI_API_KEY\"):\n",
    "    os.environ[\"OPENAI_API_KEY\"] = getpass()"
   ],
   "id": "98a8edf012a12788",
   "outputs": [],
   "execution_count": 97
  },
  {
   "metadata": {
    "ExecuteTime": {
     "end_time": "2024-08-12T08:27:59.988357Z",
     "start_time": "2024-08-12T08:27:59.847383Z"
    }
   },
   "cell_type": "code",
   "source": [
    "from langchain_openai import OpenAIEmbeddings, ChatOpenAI\n",
    "\n",
    "embeddings = OpenAIEmbeddings()\n",
    "model = ChatOpenAI(model=\"gpt-4o-mini\")"
   ],
   "id": "2727b610e8d1dab",
   "outputs": [],
   "execution_count": 98
  },
  {
   "metadata": {},
   "cell_type": "markdown",
   "source": "Load the documents into a vector store.",
   "id": "7dec526917833040"
  },
  {
   "metadata": {
    "ExecuteTime": {
     "end_time": "2024-08-12T08:28:01.248767Z",
     "start_time": "2024-08-12T08:28:00.645804Z"
    }
   },
   "cell_type": "code",
   "source": [
    "from langchain_chroma import Chroma\n",
    "\n",
    "vectorstore = Chroma.from_documents(documents=documents,\n",
    "                                    embedding=embeddings,\n",
    "                                    )"
   ],
   "id": "5f9d7467fe848c28",
   "outputs": [],
   "execution_count": 99
  },
  {
   "metadata": {},
   "cell_type": "markdown",
   "source": "Combine the documents into a single string, but with a uniq small numeric id.",
   "id": "1d490499f3dd0f2a"
  },
  {
   "metadata": {
    "ExecuteTime": {
     "end_time": "2024-08-12T08:28:01.674579Z",
     "start_time": "2024-08-12T08:28:01.672033Z"
    }
   },
   "cell_type": "code",
   "source": [
    "def format_docs(docs):\n",
    "    # return \"\\n\\n\".join(doc.page_content for doc in docs)\n",
    "    return \"\\n\".join(\n",
    "        # Add a document id so that LLM can reference it \n",
    "        [f\"<document id={i + 1}>\\n{doc.page_content}\\n</document>\\n\" for i, doc in\n",
    "         enumerate(docs)]\n",
    "    )\n"
   ],
   "id": "e1ab24ab1ce6756a",
   "outputs": [],
   "execution_count": 100
  },
  {
   "metadata": {},
   "cell_type": "markdown",
   "source": "# Manage references with langchain-reference",
   "id": "66fa627b954ca485"
  },
  {
   "metadata": {},
   "cell_type": "markdown",
   "source": "Create a prompt with `{format_references}`, `{context}` and `{question}` placeholders.",
   "id": "40dbd4cd88b69484"
  },
  {
   "metadata": {
    "ExecuteTime": {
     "end_time": "2024-08-12T08:28:03.198157Z",
     "start_time": "2024-08-12T08:28:03.192500Z"
    }
   },
   "cell_type": "code",
   "source": [
    "from langchain_core.prompts import ChatPromptTemplate\n",
    "from langchain_core.runnables import RunnablePassthrough\n",
    "\n",
    "RAG_TEMPLATE = \"\"\"\n",
    "You are an assistant for question-answering tasks. Use the following pieces of retrieved documents to answer the question. \n",
    "If you don't know the answer, just say that you don't know. Use three sentences maximum and keep the answer concise.\n",
    "\n",
    "{format_references}\n",
    "  \n",
    "<documents>\n",
    "{documents}\n",
    "</documents>\n",
    "\n",
    "Answer the following question:\n",
    "\n",
    "{question}\"\"\"\n",
    "\n",
    "rag_prompt = ChatPromptTemplate.from_template(RAG_TEMPLATE)"
   ],
   "id": "17de643f3bab60f0",
   "outputs": [],
   "execution_count": 101
  },
  {
   "metadata": {},
   "cell_type": "markdown",
   "source": "Create a context with documents and format_references.",
   "id": "ae2da97e71ccc295"
  },
  {
   "metadata": {
    "ExecuteTime": {
     "end_time": "2024-08-12T08:28:05.630841Z",
     "start_time": "2024-08-12T08:28:05.622824Z"
    }
   },
   "cell_type": "code",
   "source": [
    "from langchain_references import FORMAT_REFERENCES\n",
    "\n",
    "context = RunnablePassthrough.assign(\n",
    "    documents=lambda input: format_docs(input[\"documents\"]),\n",
    "    format_references=lambda _: FORMAT_REFERENCES,\n",
    ")\n",
    "print(FORMAT_REFERENCES)"
   ],
   "id": "6bb1bd80c65a3fe8",
   "outputs": [
    {
     "name": "stdout",
     "output_type": "stream",
     "text": [
      "When referencing the documents, add a citation right after. Use \"[NUMBER](id=ID_NUMBER)\" for the citation (e.g. \"The Space Needle is in Seattle [1](id=55)[2](id=12).\").\n"
     ]
    }
   ],
   "execution_count": 102
  },
  {
   "metadata": {},
   "cell_type": "markdown",
   "source": "Create a chain with the context, rag_prompt and model.",
   "id": "8cb0d6f292c89f32"
  },
  {
   "metadata": {
    "ExecuteTime": {
     "end_time": "2024-08-12T08:28:07.473265Z",
     "start_time": "2024-08-12T08:28:07.469482Z"
    }
   },
   "cell_type": "code",
   "source": [
    "from langchain_core.output_parsers import StrOutputParser\n",
    "\n",
    "# Invoke the chain without `manage_references()`\n",
    "chain = (\n",
    "        context\n",
    "        | rag_prompt\n",
    "        | model\n",
    ")"
   ],
   "id": "1d37c8e5dd74989f",
   "outputs": [],
   "execution_count": 103
  },
  {
   "metadata": {},
   "cell_type": "markdown",
   "source": "Select documents similar to the question.",
   "id": "fc1726be7a2701da"
  },
  {
   "metadata": {
    "ExecuteTime": {
     "end_time": "2024-08-12T08:28:27.718200Z",
     "start_time": "2024-08-12T08:28:27.494844Z"
    }
   },
   "cell_type": "code",
   "source": [
    "question = \"What is the difference kind of games and competition of mathematics?\"\n",
    "\n",
    "docs = vectorstore.similarity_search(question,k=6)\n",
    "[(d.metadata[\"title\"],d.metadata[\"source\"]) for d in docs]"
   ],
   "id": "5cfa4443804b318e",
   "outputs": [
    {
     "data": {
      "text/plain": [
       "[('Mathematical game', 'https://en.wikipedia.org/wiki/Mathematical_game'),\n",
       " ('Mathematical game', 'https://en.wikipedia.org/wiki/Mathematical_game'),\n",
       " ('List of mathematics competitions',\n",
       "  'https://en.wikipedia.org/wiki/List_of_mathematics_competitions'),\n",
       " ('List of mathematics competitions',\n",
       "  'https://en.wikipedia.org/wiki/List_of_mathematics_competitions'),\n",
       " ('List of mathematics competitions',\n",
       "  'https://en.wikipedia.org/wiki/List_of_mathematics_competitions'),\n",
       " ('List of mathematics competitions',\n",
       "  'https://en.wikipedia.org/wiki/List_of_mathematics_competitions')]"
      ]
     },
     "execution_count": 104,
     "metadata": {},
     "output_type": "execute_result"
    }
   ],
   "execution_count": 104
  },
  {
   "metadata": {},
   "cell_type": "markdown",
   "source": "Invoke the chain with the documents and question, but without `manage_references()`.",
   "id": "f018a406e58e2768"
  },
  {
   "metadata": {
    "ExecuteTime": {
     "end_time": "2024-08-12T08:35:59.713442Z",
     "start_time": "2024-08-12T08:35:58.006176Z"
    }
   },
   "cell_type": "code",
   "source": [
    "answer = (chain | StrOutputParser()).invoke({\"documents\": docs, \"question\": question})\n",
    "print(answer)"
   ],
   "id": "5f5d2df72ae94ae8",
   "outputs": [
    {
     "name": "stdout",
     "output_type": "stream",
     "text": [
      "Mathematical games do not require deep mathematical knowledge to play and focus on recreational aspects, while mathematical competitions or olympiads involve participants completing tests that may require specific mathematical expertise, often including detailed solutions or proofs [1](id=1)[3](id=5). Games tend to be more casual and accessible, whereas competitions are structured and competitive [2](id=2).\n"
     ]
    }
   ],
   "execution_count": 108
  },
  {
   "metadata": {},
   "cell_type": "markdown",
   "source": "Invoke the chain with the documents and question with `manage_references()`.",
   "id": "1db0b7d9ce0804db"
  },
  {
   "metadata": {
    "ExecuteTime": {
     "end_time": "2024-08-12T08:36:08.377892Z",
     "start_time": "2024-08-12T08:36:06.461001Z"
    }
   },
   "cell_type": "code",
   "source": [
    "answer = (manage_references(chain) | StrOutputParser()).invoke(\n",
    "    {\"documents\": docs, \"question\": question})\n",
    "print(answer)"
   ],
   "id": "5bd0e15a5da4e77a",
   "outputs": [
    {
     "name": "stdout",
     "output_type": "stream",
     "text": [
      "Mathematical games do not require deep mathematical knowledge to participate, focusing instead on enjoyment and engagement, while mathematical puzzles demand specific expertise to solve <sup>[1](https://en.wikipedia.org/wiki/Mathematical_game)</sup><sup>[1](https://en.wikipedia.org/wiki/Mathematical_game)</sup> In contrast, mathematics competitions, such as mathematical olympiads, involve structured tests where participants must solve problems, often requiring detailed solutions or proofs <sup>[2](https://en.wikipedia.org/wiki/List_of_mathematics_competitions)</sup><sup>[2](https://en.wikipedia.org/wiki/List_of_mathematics_competitions)</sup> Thus, the primary difference lies in the level of expertise required and the format of participation.\n",
      "\n",
      "- **1** [Mathematical game](https://en.wikipedia.org/wiki/Mathematical_game)\n",
      "- **2** [List of mathematics competitions](https://en.wikipedia.org/wiki/List_of_mathematics_competitions)\n",
      "\n"
     ]
    }
   ],
   "execution_count": 109
  },
  {
   "metadata": {},
   "cell_type": "code",
   "source": [
    "from IPython.display import display, Markdown\n",
    "\n",
    "display(Markdown(answer))"
   ],
   "id": "5f9f80470fab785b",
   "outputs": [],
   "execution_count": null
  },
  {
   "metadata": {},
   "cell_type": "code",
   "source": "",
   "id": "9f02bc80bbaf71f2",
   "outputs": [],
   "execution_count": null
  }
 ],
 "metadata": {
  "kernelspec": {
   "display_name": "langchain-references",
   "language": "python",
   "name": "langchain-references"
  },
  "language_info": {
   "codemirror_mode": {
    "name": "ipython",
    "version": 2
   },
   "file_extension": ".py",
   "mimetype": "text/x-python",
   "name": "python",
   "nbconvert_exporter": "python",
   "pygments_lexer": "ipython2",
   "version": "2.7.6"
  }
 },
 "nbformat": 4,
 "nbformat_minor": 5
}
