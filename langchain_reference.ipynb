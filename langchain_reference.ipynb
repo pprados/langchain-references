{
 "cells": [
  {
   "metadata": {},
   "cell_type": "markdown",
   "source": [
    "# Setup\n",
    "[![Open in Colab](colab-badge.svg)](https://colab.research.google.com/github/pprados/langchain-references/blob/wip/langchain_reference.ipynb)\n"
   ],
   "id": "c86f3d83ad4a715a"
  },
  {
   "metadata": {
    "ExecuteTime": {
     "end_time": "2024-08-12T08:48:39.661448Z",
     "start_time": "2024-08-12T08:48:38.513939Z"
    }
   },
   "cell_type": "code",
   "source": "!python -m pip -qU install --upgrade pip",
   "id": "dc957a611930f73c",
   "outputs": [],
   "execution_count": 1
  },
  {
   "metadata": {
    "ExecuteTime": {
     "end_time": "2024-08-12T08:48:52.623738Z",
     "start_time": "2024-08-12T08:48:46.488581Z"
    }
   },
   "cell_type": "code",
   "source": [
    "# Document loading, retrieval methods and text splitting\n",
    "%pip install -qU wikipedia\n",
    "\n",
    "%pip install -qU langchain-references\n",
    "%pip install -qU langchain-community\n",
    "%pip install -qU langchain-text-splitters\n",
    "\n",
    "# Local vector store via Chroma\n",
    "%pip install -qU langchain-chroma\n",
    "\n",
    "# inference and embeddings \n",
    "%pip install -qU langchain-openai"
   ],
   "id": "aa3cb4127a38ba2c",
   "outputs": [
    {
     "name": "stdout",
     "output_type": "stream",
     "text": [
      "Note: you may need to restart the kernel to use updated packages.\n",
      "Note: you may need to restart the kernel to use updated packages.\n",
      "Note: you may need to restart the kernel to use updated packages.\n",
      "Note: you may need to restart the kernel to use updated packages.\n",
      "Note: you may need to restart the kernel to use updated packages.\n",
      "Note: you may need to restart the kernel to use updated packages.\n"
     ]
    }
   ],
   "execution_count": 2
  },
  {
   "metadata": {
    "ExecuteTime": {
     "end_time": "2024-08-12T08:48:57.332304Z",
     "start_time": "2024-08-12T08:48:57.025104Z"
    }
   },
   "cell_type": "code",
   "source": [
    "import langchain_references\n",
    "\n",
    "langchain_references.__version__"
   ],
   "id": "eb8191ca50131426",
   "outputs": [
    {
     "data": {
      "text/plain": [
       "'0.0.0'"
      ]
     },
     "execution_count": 3,
     "metadata": {},
     "output_type": "execute_result"
    }
   ],
   "execution_count": 3
  },
  {
   "metadata": {},
   "cell_type": "markdown",
   "source": [
    "# Document loading, retrieval methods and text splitting\n",
    "Load documents from the web and split them into smaller chunks for processing."
   ],
   "id": "83768f43742ddfb4"
  },
  {
   "metadata": {
    "ExecuteTime": {
     "end_time": "2024-08-12T08:52:23.625982Z",
     "start_time": "2024-08-12T08:52:13.911727Z"
    }
   },
   "cell_type": "code",
   "source": [
    "import os\n",
    "\n",
    "os.environ[\"USER_AGENT\"] = \"langhchain-references\"\n",
    "\n",
    "from langchain_text_splitters import RecursiveCharacterTextSplitter\n",
    "from langchain_community.document_loaders import WebBaseLoader\n",
    "\n",
    "from langchain_community.retrievers import WikipediaRetriever\n",
    "\n",
    "documents = WikipediaRetriever(\n",
    "    top_k_results=10, \n",
    "    doc_content_chars_max=2000\n",
    ").invoke(\"mathematic\")\n"
   ],
   "id": "4ead84bd97afdfdf",
   "outputs": [],
   "execution_count": 4
  },
  {
   "metadata": {
    "ExecuteTime": {
     "end_time": "2024-08-12T08:52:27.343025Z",
     "start_time": "2024-08-12T08:52:27.336874Z"
    }
   },
   "cell_type": "code",
   "source": "[(doc.metadata[\"title\"],doc.metadata[\"source\"]) for doc in documents]",
   "id": "e4ffd3c1f4353224",
   "outputs": [
    {
     "data": {
      "text/plain": [
       "[('Mathematics', 'https://en.wikipedia.org/wiki/Mathematics'),\n",
       " ('History of mathematics',\n",
       "  'https://en.wikipedia.org/wiki/History_of_mathematics'),\n",
       " ('Mathematical Reviews',\n",
       "  'https://en.wikipedia.org/wiki/Mathematical_Reviews'),\n",
       " ('List of mathematics competitions',\n",
       "  'https://en.wikipedia.org/wiki/List_of_mathematics_competitions'),\n",
       " ('Mathematical game', 'https://en.wikipedia.org/wiki/Mathematical_game'),\n",
       " ('Applied mathematics', 'https://en.wikipedia.org/wiki/Applied_mathematics'),\n",
       " ('Mathematical sciences',\n",
       "  'https://en.wikipedia.org/wiki/Mathematical_sciences'),\n",
       " ('Mathematical logic', 'https://en.wikipedia.org/wiki/Mathematical_logic'),\n",
       " ('List of mathematics awards',\n",
       "  'https://en.wikipedia.org/wiki/List_of_mathematics_awards'),\n",
       " ('Philosophy of mathematics',\n",
       "  'https://en.wikipedia.org/wiki/Philosophy_of_mathematics')]"
      ]
     },
     "execution_count": 5,
     "metadata": {},
     "output_type": "execute_result"
    }
   ],
   "execution_count": 5
  },
  {
   "metadata": {
    "ExecuteTime": {
     "end_time": "2024-08-12T08:52:37.290354Z",
     "start_time": "2024-08-12T08:52:37.286358Z"
    }
   },
   "cell_type": "code",
   "source": [
    "import os\n",
    "from getpass import getpass\n",
    "\n",
    "if not os.environ.get(\"OPENAI_API_KEY\"):\n",
    "    os.environ[\"OPENAI_API_KEY\"] = getpass()"
   ],
   "id": "98a8edf012a12788",
   "outputs": [],
   "execution_count": 6
  },
  {
   "metadata": {
    "ExecuteTime": {
     "end_time": "2024-08-12T08:52:39.633959Z",
     "start_time": "2024-08-12T08:52:38.912170Z"
    }
   },
   "cell_type": "code",
   "source": [
    "from langchain_openai import OpenAIEmbeddings, ChatOpenAI\n",
    "\n",
    "embeddings = OpenAIEmbeddings()\n",
    "model = ChatOpenAI(model=\"gpt-4o-mini\")"
   ],
   "id": "2727b610e8d1dab",
   "outputs": [],
   "execution_count": 7
  },
  {
   "metadata": {},
   "cell_type": "markdown",
   "source": "Load the documents into a vector store.",
   "id": "7dec526917833040"
  },
  {
   "metadata": {
    "ExecuteTime": {
     "end_time": "2024-08-12T08:52:58.129085Z",
     "start_time": "2024-08-12T08:52:56.874315Z"
    }
   },
   "cell_type": "code",
   "source": [
    "from langchain_chroma import Chroma\n",
    "\n",
    "vectorstore = Chroma.from_documents(documents=documents,\n",
    "                                    embedding=embeddings,\n",
    "                                    )"
   ],
   "id": "5f9d7467fe848c28",
   "outputs": [],
   "execution_count": 8
  },
  {
   "metadata": {},
   "cell_type": "markdown",
   "source": "Combine the documents into a single string, but with a uniq small numeric id.",
   "id": "1d490499f3dd0f2a"
  },
  {
   "metadata": {
    "ExecuteTime": {
     "end_time": "2024-08-12T08:53:02.227014Z",
     "start_time": "2024-08-12T08:53:02.222324Z"
    }
   },
   "cell_type": "code",
   "source": [
    "def format_docs(docs):\n",
    "    # return \"\\n\\n\".join(doc.page_content for doc in docs)\n",
    "    return \"\\n\".join(\n",
    "        # Add a document id so that LLM can reference it \n",
    "        [f\"<document id={i + 1}>\\n{doc.page_content}\\n</document>\\n\" for i, doc in\n",
    "         enumerate(docs)]\n",
    "    )\n"
   ],
   "id": "e1ab24ab1ce6756a",
   "outputs": [],
   "execution_count": 9
  },
  {
   "metadata": {},
   "cell_type": "markdown",
   "source": "# Manage references with langchain-reference",
   "id": "66fa627b954ca485"
  },
  {
   "metadata": {},
   "cell_type": "markdown",
   "source": "Create a prompt with `{format_references}`, `{context}` and `{question}` placeholders.",
   "id": "40dbd4cd88b69484"
  },
  {
   "metadata": {
    "ExecuteTime": {
     "end_time": "2024-08-12T08:53:10.525462Z",
     "start_time": "2024-08-12T08:53:10.521856Z"
    }
   },
   "cell_type": "code",
   "source": [
    "from langchain_core.prompts import ChatPromptTemplate\n",
    "from langchain_core.runnables import RunnablePassthrough\n",
    "\n",
    "RAG_TEMPLATE = \"\"\"\n",
    "You are an assistant for question-answering tasks. Use the following pieces of retrieved documents to answer the question. \n",
    "If you don't know the answer, just say that you don't know. Use three sentences maximum and keep the answer concise.\n",
    "\n",
    "{format_references}\n",
    "  \n",
    "<documents>\n",
    "{documents}\n",
    "</documents>\n",
    "\n",
    "Answer the following question:\n",
    "\n",
    "{question}\"\"\"\n",
    "\n",
    "rag_prompt = ChatPromptTemplate.from_template(RAG_TEMPLATE)"
   ],
   "id": "17de643f3bab60f0",
   "outputs": [],
   "execution_count": 10
  },
  {
   "metadata": {},
   "cell_type": "markdown",
   "source": "Create a context with documents and format_references.",
   "id": "ae2da97e71ccc295"
  },
  {
   "metadata": {
    "ExecuteTime": {
     "end_time": "2024-08-12T08:53:14.746384Z",
     "start_time": "2024-08-12T08:53:14.741757Z"
    }
   },
   "cell_type": "code",
   "source": [
    "from langchain_references import FORMAT_REFERENCES\n",
    "\n",
    "context = RunnablePassthrough.assign(\n",
    "    documents=lambda input: format_docs(input[\"documents\"]),\n",
    "    format_references=lambda _: FORMAT_REFERENCES,\n",
    ")\n",
    "print(FORMAT_REFERENCES)"
   ],
   "id": "6bb1bd80c65a3fe8",
   "outputs": [
    {
     "name": "stdout",
     "output_type": "stream",
     "text": [
      "When referencing the documents, add a citation right after. Use \"[NUMBER](id=ID_NUMBER)\" for the citation (e.g. \"The Space Needle is in Seattle [1](id=55)[2](id=12).\").\n"
     ]
    }
   ],
   "execution_count": 11
  },
  {
   "metadata": {},
   "cell_type": "markdown",
   "source": "Create a chain with the context, rag_prompt and model.",
   "id": "8cb0d6f292c89f32"
  },
  {
   "metadata": {
    "ExecuteTime": {
     "end_time": "2024-08-12T08:53:28.552096Z",
     "start_time": "2024-08-12T08:53:28.546903Z"
    }
   },
   "cell_type": "code",
   "source": [
    "from langchain_core.output_parsers import StrOutputParser\n",
    "\n",
    "# Invoke the chain without `manage_references()`\n",
    "chain = (\n",
    "        context\n",
    "        | rag_prompt\n",
    "        | model\n",
    ")"
   ],
   "id": "1d37c8e5dd74989f",
   "outputs": [],
   "execution_count": 12
  },
  {
   "metadata": {},
   "cell_type": "markdown",
   "source": "Select documents similar to the question.",
   "id": "fc1726be7a2701da"
  },
  {
   "metadata": {
    "ExecuteTime": {
     "end_time": "2024-08-12T08:53:39.658879Z",
     "start_time": "2024-08-12T08:53:39.459553Z"
    }
   },
   "cell_type": "code",
   "source": [
    "question = \"What is the difference kind of games and competition of mathematics?\"\n",
    "\n",
    "docs = vectorstore.similarity_search(question,k=6)\n",
    "[(d.metadata[\"title\"],d.metadata[\"source\"]) for d in docs]"
   ],
   "id": "5cfa4443804b318e",
   "outputs": [
    {
     "data": {
      "text/plain": [
       "[('Mathematical game', 'https://en.wikipedia.org/wiki/Mathematical_game'),\n",
       " ('List of mathematics competitions',\n",
       "  'https://en.wikipedia.org/wiki/List_of_mathematics_competitions'),\n",
       " ('Mathematics', 'https://en.wikipedia.org/wiki/Mathematics'),\n",
       " ('Philosophy of mathematics',\n",
       "  'https://en.wikipedia.org/wiki/Philosophy_of_mathematics'),\n",
       " ('History of mathematics',\n",
       "  'https://en.wikipedia.org/wiki/History_of_mathematics'),\n",
       " ('List of mathematics awards',\n",
       "  'https://en.wikipedia.org/wiki/List_of_mathematics_awards')]"
      ]
     },
     "execution_count": 13,
     "metadata": {},
     "output_type": "execute_result"
    }
   ],
   "execution_count": 13
  },
  {
   "metadata": {},
   "cell_type": "markdown",
   "source": "Invoke the chain with the documents and question, but without `manage_references()`. You can see some ̀\\[1](id=1)` references in the answer.",
   "id": "f018a406e58e2768"
  },
  {
   "metadata": {
    "ExecuteTime": {
     "end_time": "2024-08-12T08:55:07.419328Z",
     "start_time": "2024-08-12T08:55:05.737701Z"
    }
   },
   "cell_type": "code",
   "source": [
    "answer = (chain | StrOutputParser()).invoke({\"documents\": docs, \"question\": question})\n",
    "print(answer)"
   ],
   "id": "5f5d2df72ae94ae8",
   "outputs": [
    {
     "name": "stdout",
     "output_type": "stream",
     "text": [
      "Mathematical games are structured activities with rules defined by mathematical principles, focusing on strategy and often involving simple procedures, like chess or tic-tac-toe [1](id=1). In contrast, mathematics competitions, such as the International Mathematical Olympiad, are events where participants solve mathematical problems or puzzles, often requiring a higher level of mathematical knowledge and skills [2](id=2). While games are typically recreational, competitions are formalized events aimed at testing and showcasing mathematical abilities.\n"
     ]
    }
   ],
   "execution_count": 15
  },
  {
   "metadata": {},
   "cell_type": "markdown",
   "source": "Invoke the chain with the documents and question with `manage_references()`.",
   "id": "1db0b7d9ce0804db"
  },
  {
   "metadata": {
    "ExecuteTime": {
     "end_time": "2024-08-12T08:55:30.755737Z",
     "start_time": "2024-08-12T08:55:28.314881Z"
    }
   },
   "cell_type": "code",
   "source": [
    "from langchain_references import manage_references\n",
    "\n",
    "answer = (manage_references(chain) | StrOutputParser()).invoke(\n",
    "    {\"documents\": docs, \"question\": question})\n",
    "print(answer)"
   ],
   "id": "5bd0e15a5da4e77a",
   "outputs": [
    {
     "name": "stdout",
     "output_type": "stream",
     "text": [
      "Mathematical games are structured activities defined by clear rules and strategies, often engaging players in fundamental arithmetic concepts without requiring deep mathematical expertise, while competitions, such as mathematics olympiads, involve participants completing math tests that may include multiple-choice questions or proofs <sup>[[1](https://en.wikipedia.org/wiki/Mathematical_game)]</sup><sup>[[2](https://en.wikipedia.org/wiki/List_of_mathematics_competitions)]</sup> The former emphasizes recreational and educational aspects, whereas the latter focuses on assessment and competition among individuals or teams in solving mathematical problems <sup>[[1](https://en.wikipedia.org/wiki/Mathematical_game)]</sup><sup>[[2](https://en.wikipedia.org/wiki/List_of_mathematics_competitions)]</sup>\n",
      "\n",
      "- **1** [Mathematical game](https://en.wikipedia.org/wiki/Mathematical_game)\n",
      "- **2** [List of mathematics competitions](https://en.wikipedia.org/wiki/List_of_mathematics_competitions)\n",
      "\n"
     ]
    }
   ],
   "execution_count": 17
  },
  {
   "metadata": {
    "ExecuteTime": {
     "end_time": "2024-08-12T08:55:38.140075Z",
     "start_time": "2024-08-12T08:55:38.134427Z"
    }
   },
   "cell_type": "code",
   "source": [
    "from IPython.display import display, Markdown\n",
    "\n",
    "display(Markdown(answer))"
   ],
   "id": "5f9f80470fab785b",
   "outputs": [
    {
     "data": {
      "text/plain": [
       "<IPython.core.display.Markdown object>"
      ],
      "text/markdown": "Mathematical games are structured activities defined by clear rules and strategies, often engaging players in fundamental arithmetic concepts without requiring deep mathematical expertise, while competitions, such as mathematics olympiads, involve participants completing math tests that may include multiple-choice questions or proofs <sup>[[1](https://en.wikipedia.org/wiki/Mathematical_game)]</sup><sup>[[2](https://en.wikipedia.org/wiki/List_of_mathematics_competitions)]</sup> The former emphasizes recreational and educational aspects, whereas the latter focuses on assessment and competition among individuals or teams in solving mathematical problems <sup>[[1](https://en.wikipedia.org/wiki/Mathematical_game)]</sup><sup>[[2](https://en.wikipedia.org/wiki/List_of_mathematics_competitions)]</sup>\n\n- **1** [Mathematical game](https://en.wikipedia.org/wiki/Mathematical_game)\n- **2** [List of mathematics competitions](https://en.wikipedia.org/wiki/List_of_mathematics_competitions)\n"
     },
     "metadata": {},
     "output_type": "display_data"
    }
   ],
   "execution_count": 18
  },
  {
   "metadata": {},
   "cell_type": "code",
   "source": "",
   "id": "96cb09eb4f2d70ff",
   "outputs": [],
   "execution_count": null
  }
 ],
 "metadata": {
  "kernelspec": {
   "display_name": "langchain-references",
   "language": "python",
   "name": "langchain-references"
  },
  "language_info": {
   "codemirror_mode": {
    "name": "ipython",
    "version": 2
   },
   "file_extension": ".py",
   "mimetype": "text/x-python",
   "name": "python",
   "nbconvert_exporter": "python",
   "pygments_lexer": "ipython2",
   "version": "2.7.6"
  }
 },
 "nbformat": 4,
 "nbformat_minor": 5
}
